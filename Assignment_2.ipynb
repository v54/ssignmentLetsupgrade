{
  "nbformat": 4,
  "nbformat_minor": 0,
  "metadata": {
    "colab": {
      "name": "Assignment 2.ipynb",
      "provenance": []
    },
    "kernelspec": {
      "name": "python3",
      "display_name": "Python 3"
    }
  },
  "cells": [
    {
      "cell_type": "code",
      "metadata": {
        "id": "-pxuC-pI8vv0"
      },
      "source": [
        ""
      ],
      "execution_count": null,
      "outputs": []
    },
    {
      "cell_type": "markdown",
      "metadata": {
        "id": "8xTOpi8R9A99"
      },
      "source": [
        "Question 1\r\n",
        "You all are pilots, you have to land a plane, the altitude required for landing a plane is 1000ft, if it\r\n",
        "is less than that tell the pilot to land the plane, or it is more than that but less than 5000ft ask the\r\n",
        "pilot to \"come down to 1000ft\", else if it is more than 5000ft ask the pilot to \"go around and try\r\n",
        "later\"\r\n",
        "Example: Input - 1000\r\n",
        "Output - Safe to land\r\n",
        "Example: Input - 4500\r\n",
        "Output - Bring down to 1000\r\n",
        "Example: Input 6500\r\n",
        "Output - Turn Around"
      ]
    },
    {
      "cell_type": "code",
      "metadata": {
        "colab": {
          "base_uri": "https://localhost:8080/"
        },
        "id": "08qNKMUT9EMI",
        "outputId": "80060b05-fbc5-482f-fb29-7d4f3c528ce3"
      },
      "source": [
        "\r\n",
        "Altitude = input(\"Enter your Altitude :\")\r\n",
        "if Altitude <= \"1000\":\r\n",
        "  print(\"safe to land\")\r\n",
        "elif Altitude <= \"5000\":\r\n",
        "  print(\"Bring down to 1000ft\")\r\n",
        "else:\r\n",
        "  print(\"Turn Around\")\r\n",
        "  \r\n",
        "\r\n"
      ],
      "execution_count": 6,
      "outputs": [
        {
          "output_type": "stream",
          "text": [
            "Enter your Altitude :6500\n",
            "Turn Around\n"
          ],
          "name": "stdout"
        }
      ]
    }
  ]
}